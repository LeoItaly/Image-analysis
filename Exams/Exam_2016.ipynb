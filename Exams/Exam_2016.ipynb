{
 "cells": [
  {
   "cell_type": "markdown",
   "metadata": {},
   "source": [
    "### 16.2\n",
    "\n",
    "#### Morphological opening and binary run-length code\n",
    "\n",
    "How many foreground pixels are there in the resulting image?"
   ]
  },
  {
   "cell_type": "code",
   "execution_count": 1,
   "metadata": {},
   "outputs": [
    {
     "name": "stdout",
     "output_type": "stream",
     "text": [
      "Coordinates filled with 1s: [(3, 4), (3, 5), (4, 3), (4, 4), (4, 5), (4, 6), (4, 7), (5, 4), (5, 5), (5, 6), (5, 7), (6, 5), (6, 6), (6, 7), (6, 8), (7, 6), (7, 7)]\n",
      "Number of foreground pixels after morphological opening: 16\n"
     ]
    },
    {
     "data": {
      "image/png": "[encoded data removed]",
      "text/plain": [
       "<Figure size 1000x500 with 4 Axes>"
      ]
     },
     "metadata": {},
     "output_type": "display_data"
    }
   ],
   "source": [
    "import numpy as np\n",
    "import matplotlib.pyplot as plt\n",
    "from scipy.ndimage import binary_erosion, binary_dilation\n",
    "\n",
    "# Create a 12x12 array filled with zeros\n",
    "image = np.zeros((12, 12), dtype=int)\n",
    "\n",
    "# List of run-length codes\n",
    "run_lengths = [\n",
    "    (3, (4, 5)),\n",
    "    (4, (3, 7)),\n",
    "    (5, (4, 7)),\n",
    "    (6, (5, 8)),\n",
    "    (7, (6, 7))\n",
    "]\n",
    "\n",
    "# Apply each run-length code to the image\n",
    "for row, (start_col, end_col) in run_lengths:\n",
    "    image[row, start_col:end_col+1] = 1\n",
    "\n",
    "# Initialize a list to hold the coordinates\n",
    "filled_coordinates = []\n",
    "\n",
    "# Find all coordinates where the image has a value of 1\n",
    "for i in range(image.shape[0]):\n",
    "    for j in range(image.shape[1]):\n",
    "        if image[i, j] == 1:\n",
    "            filled_coordinates.append((i, j))\n",
    "\n",
    "# Output the filled coordinates\n",
    "print(\"Coordinates filled with 1s:\", filled_coordinates)\n",
    "\n",
    "# Define the structuring element\n",
    "structuring_element = np.array([\n",
    "    [0, 1, 0],\n",
    "    [1, 1, 1],\n",
    "    [0, 1, 0]\n",
    "])\n",
    "\n",
    "# Perform erosion\n",
    "eroded_image = binary_erosion(image, structure=structuring_element)\n",
    "\n",
    "# Perform dilation\n",
    "opened_image = binary_dilation(eroded_image, structure=structuring_element)\n",
    "\n",
    "# Count the foreground pixels in the resulting image\n",
    "foreground_pixels_count = np.sum(opened_image)\n",
    "\n",
    "# Output the number of foreground pixels\n",
    "print(\"Number of foreground pixels after morphological opening:\", foreground_pixels_count)\n",
    "\n",
    "# Display the original and the opened image\n",
    "plt.figure(figsize=(10, 5))\n",
    "\n",
    "plt.subplot(1, 2, 1)\n",
    "plt.imshow(image, cmap='gray', interpolation='nearest')\n",
    "plt.title('Original Image')\n",
    "plt.colorbar()\n",
    "\n",
    "plt.subplot(1, 2, 2)\n",
    "plt.imshow(opened_image, cmap='gray', interpolation='nearest')\n",
    "plt.title('Opened Image')\n",
    "plt.colorbar()\n",
    "\n",
    "plt.show()"
   ]
  },
  {
   "cell_type": "code",
   "execution_count": 2,
   "metadata": {},
   "outputs": [
    {
     "name": "stdout",
     "output_type": "stream",
     "text": [
      "Filtered Image:\n",
      "[[120 120 120 110 110]\n",
      " [120 120 110 110 110]\n",
      " [110 100 100 100 110]\n",
      " [ 95  95  95  80  80]\n",
      " [ 80  80  80  80  80]]\n",
      "Value at pixel (2, 2): 100\n"
     ]
    }
   ],
   "source": [
    "from scipy.ndimage import median_filter\n",
    "\n",
    "# Manually construct the 5x5 image matrix from the decoded description\n",
    "image = np.array([\n",
    "    [120, 120, 120, 110, 110],\n",
    "    [120, 120, 110, 110, 110],\n",
    "    [95,  95,  95, 95, 110],\n",
    "    [110, 100,  100,  80,  80],\n",
    "    [80,  80,  80,  80,  80]\n",
    "])\n",
    "\n",
    "# Apply the median filter with a size of 3x3\n",
    "filtered_image = median_filter(image, size=3)\n",
    "\n",
    "# Print the filtered image\n",
    "print(\"Filtered Image:\")\n",
    "print(filtered_image)\n",
    "\n",
    "# Print the value at the pixel (2, 2)\n",
    "print(\"Value at pixel (2, 2):\", filtered_image[2, 2])"
   ]
  },
  {
   "cell_type": "markdown",
   "metadata": {},
   "source": [
    "### 16.7\n",
    "#### BLOB features and separation\n",
    "Which set of BLOBfeatures can be used to seperate the 6 BLOBs in Figure 2. \n",
    "1. Area and bounding box ratio \n",
    "2. compactness and circularity \n",
    "3. bounding box ratio and circularity \n",
    "4. Area and compactness \n",
    "5. compactness and bounding box ratio\n",
    "\n",
    "\n",
    "\n",
    "![alt text](<Images/Screenshot 2024-04-25 112523.png>)"
   ]
  },
  {
   "cell_type": "markdown",
   "metadata": {},
   "source": [
    "Area and compactness (Option 4) could be a good choice, as it distinguishes blobs based on both size and how much they differ from a circular shape. This can separate large round shapes from small round ones, and irregular shapes from regular ones."
   ]
  },
  {
   "cell_type": "markdown",
   "metadata": {},
   "source": [
    "### 16.8\n",
    "#### Mean filter and Gamma correction\n",
    "\n",
    "What is the result in the marked pixel?"
   ]
  },
  {
   "cell_type": "code",
   "execution_count": 3,
   "metadata": {},
   "outputs": [
    {
     "data": {
      "text/plain": [
       "131"
      ]
     },
     "execution_count": 3,
     "metadata": {},
     "output_type": "execute_result"
    }
   ],
   "source": [
    "from scipy.ndimage import correlate\n",
    "\n",
    "# Original image matrix\n",
    "matrix = np.array([[87, 178, 66],\n",
    "                   [149, 227, 214],\n",
    "                   [57, 245, 65]])\n",
    "\n",
    "# Define the 3x3 mean filter kernel\n",
    "mean_filter_kernel = np.ones((3, 3)) / 9\n",
    "\n",
    "# Apply the mean filter to the image\n",
    "mean_filtered_image = correlate(matrix, mean_filter_kernel)\n",
    "\n",
    "# Perform gamma correction\n",
    "gamma = 1.15\n",
    "# Normalize the pixel values to [0, 1], apply gamma correction,\n",
    "# and then rescale back to [0, 255]\n",
    "gamma_corrected_image = (mean_filtered_image / 255) ** gamma * 255\n",
    "\n",
    "# Ensuring the values are within the proper range and of integer type\n",
    "gamma_corrected_image = np.clip(gamma_corrected_image, 0, 255).astype('uint8')\n",
    "\n",
    "# Retrieve the value at position (1, 1) which corresponds to the original value 227\n",
    "result_pixel_value = gamma_corrected_image[1, 1]\n",
    "\n",
    "result_pixel_value\n"
   ]
  },
  {
   "cell_type": "markdown",
   "metadata": {},
   "source": [
    "### 16.9 \n",
    "#### Template Matching and correlation\n",
    "\n",
    "A template matching is performed on the image in Figure 4(left) with a template image as seen in Figure 4 (right). In the pixel marked with a blue circle the correlation is 243387. What is the original pixel value in the pixel with a missing value?"
   ]
  },
  {
   "cell_type": "code",
   "execution_count": 4,
   "metadata": {},
   "outputs": [
    {
     "data": {
      "text/plain": [
       "[245]"
      ]
     },
     "execution_count": 4,
     "metadata": {},
     "output_type": "execute_result"
    }
   ],
   "source": [
    "from sympy import symbols, Eq, solve\n",
    "\n",
    "# Initialize the missing value as a symbol\n",
    "x = symbols('x')\n",
    "\n",
    "# Given correlation score\n",
    "correlation_score = 243387\n",
    "\n",
    "# Known values from the image matrix and template\n",
    "image_values = np.array([195, 181, 30, 203, 192, 127, 48, 70])  # Excluding np.nan\n",
    "template_values = np.array([208, 233, 71, 231, 161, 139, 32, 25])  # Corresponding template values\n",
    "\n",
    "# Calculate the sum of products for the known values\n",
    "sum_known = np.sum(image_values * template_values)\n",
    "\n",
    "# Set up the equation correlating the sum of the products to the correlation score\n",
    "equation = Eq(sum_known + x * 244, correlation_score)\n",
    "\n",
    "# Solve the equation for x\n",
    "missing_value = solve(equation, x)\n",
    "missing_value"
   ]
  },
  {
   "cell_type": "markdown",
   "metadata": {},
   "source": [
    "### 16.10\n",
    "#### Template Matching and normalized cross correlation \n",
    "A template matching is performed on the image in Figure 4(right) with a template image as seen in Figure 4 (left). What is the normalized cross correlation in the pixel marked with a green circle?"
   ]
  },
  {
   "cell_type": "code",
   "execution_count": 5,
   "metadata": {},
   "outputs": [
    {
     "name": "stderr",
     "output_type": "stream",
     "text": [
      "C:\\Users\\Leuro\\AppData\\Local\\Temp\\ipykernel_36888\\3404309244.py:11: RuntimeWarning: overflow encountered in scalar multiply\n",
      "  denominator = np.sqrt(np.sum(image_pixels**2) * np.sum(template_pixels**2))\n"
     ]
    },
    {
     "data": {
      "text/plain": [
       "9.625117181155131"
      ]
     },
     "execution_count": 5,
     "metadata": {},
     "output_type": "execute_result"
    }
   ],
   "source": [
    "# Pixel values from the image matrix\n",
    "image_pixels = np.array([87, 178, 66, 149, 227, 214, 57, 245, 65])\n",
    "\n",
    "# Pixel values from the template\n",
    "template_pixels = np.array([208, 233, 71, 231, 161, 139, 32, 25, 244])\n",
    "\n",
    "# Calculate the numerator of the NCC formula: sum of products of corresponding pixels\n",
    "numerator = np.sum(image_pixels * template_pixels)\n",
    "\n",
    "# Calculate the denominator of the NCC formula: product of square roots of sum of squares\n",
    "denominator = np.sqrt(np.sum(image_pixels**2) * np.sum(template_pixels**2))\n",
    "\n",
    "# Calculate the NCC\n",
    "ncc = numerator / denominator\n",
    "ncc"
   ]
  },
  {
   "cell_type": "markdown",
   "metadata": {},
   "source": [
    "### 16.14\n",
    "#### Bilinear Interpolation\n",
    "\n",
    "What is the interpolated value in the point?"
   ]
  },
  {
   "cell_type": "code",
   "execution_count": 6,
   "metadata": {},
   "outputs": [
    {
     "data": {
      "text/plain": [
       "20.03000000000005"
      ]
     },
     "execution_count": 6,
     "metadata": {},
     "output_type": "execute_result"
    }
   ],
   "source": [
    "# Define the pixel coordinates and values\n",
    "x1, y1 = 80, 60\n",
    "x2, y2 = 81, 61\n",
    "v11 = 15  # Value at (80, 60)\n",
    "v12 = 23  # Value at (80, 61)\n",
    "v21 = 24  # Value at (81, 60)\n",
    "v22 = 11  # Value at (81, 61)\n",
    "\n",
    "# Coordinates of the point where we need to find the pixel value\n",
    "x, y = 80.1, 60.7\n",
    "\n",
    "# Bilinear interpolation formula\n",
    "def bilinear_interpolation(x, y, x1, x2, y1, y2, v11, v12, v21, v22):\n",
    "    # Interpolation in x direction\n",
    "    v_x_y1 = v11 + (v21 - v11) * ((x - x1) / (x2 - x1))\n",
    "    v_x_y2 = v12 + (v22 - v12) * ((x - x1) / (x2 - x1))\n",
    "\n",
    "    # Interpolation in y direction\n",
    "    v_x_y = v_x_y1 + (v_x_y2 - v_x_y1) * ((y - y1) / (y2 - y1))\n",
    "    return v_x_y\n",
    "\n",
    "# Compute the interpolated value at the center point\n",
    "interpolated_value = bilinear_interpolation(x, y, x1, x2, y1, y2, v11, v12, v21, v22)\n",
    "interpolated_value"
   ]
  },
  {
   "cell_type": "markdown",
   "metadata": {},
   "source": [
    "### 16.15\n",
    "#### linear gray level mapping and 3x3 maximum-rank lter\n",
    "\n",
    "the new maximum value in the image is 160 and the new minimum value in the image is 50. What will the value of the marked pixel be?"
   ]
  },
  {
   "cell_type": "code",
   "execution_count": 11,
   "metadata": {},
   "outputs": [
    {
     "data": {
      "text/plain": [
       "(array([[141,  70, 160],\n",
       "        [153, 106,  98],\n",
       "        [ 50, 160, 139]], dtype=uint8),\n",
       " array([[153, 160, 160],\n",
       "        [160, 160, 160],\n",
       "        [160, 160, 160]], dtype=uint8),\n",
       " 160)"
      ]
     },
     "execution_count": 11,
     "metadata": {},
     "output_type": "execute_result"
    }
   ],
   "source": [
    "from skimage.util import img_as_float\n",
    "from skimage.util import img_as_ubyte\n",
    "\n",
    "matrix = np.array([[208, 71, 244],\n",
    "                   [231, 139, 124],\n",
    "                   [32, 244, 204]])\n",
    "\n",
    "\n",
    "img_float = img_as_float(matrix)\n",
    "\n",
    "min_val = img_float.min()\n",
    "max_val = img_float.max()\n",
    "# Original min and max values\n",
    "# old_min, old_max = matrix.min(), matrix.max()\n",
    "\n",
    "# # New min and max values\n",
    "min_desired = 50/255\n",
    "max_desired = 160/255\n",
    "\n",
    "img_out = ((max_desired- min_desired)/(max_val - min_val))*(img_float-min_val) + min_desired\n",
    "\n",
    "scaled_matrix =img_as_ubyte(img_out)\n",
    "# # Apply linear gray level mapping\n",
    "# scaled_matrix = ((matrix - old_min) * (new_max - new_min) / (old_max - old_min)) + new_min\n",
    "\n",
    "# Apply a 3x3 maximum-rank filter to the scaled image\n",
    "from scipy.ndimage import maximum_filter\n",
    "\n",
    "filtered_matrix = maximum_filter(scaled_matrix, size=3)\n",
    "\n",
    "# The new scaled and filtered value of the original pixel 139\n",
    "scaled_matrix, filtered_matrix, filtered_matrix[1, 1]"
   ]
  },
  {
   "cell_type": "markdown",
   "metadata": {},
   "source": [
    "### 16.15\n",
    "#### pixel classification and minimum distance classification\n",
    "\n",
    "A pixel with the value 46 in the image will be classified as?"
   ]
  },
  {
   "cell_type": "code",
   "execution_count": 12,
   "metadata": {},
   "outputs": [
    {
     "data": {
      "text/plain": [
       "({'Air': -989.0,\n",
       "  'Soft Tissue': -54.0,\n",
       "  'Kidney': 36.666666666666664,\n",
       "  'Liver': 54.0,\n",
       "  'Bone': 210.0},\n",
       " {'Air': 1035.0,\n",
       "  'Soft Tissue': 100.0,\n",
       "  'Kidney': 9.333333333333336,\n",
       "  'Liver': 8.0,\n",
       "  'Bone': 164.0},\n",
       " 'Liver')"
      ]
     },
     "execution_count": 12,
     "metadata": {},
     "output_type": "execute_result"
    }
   ],
   "source": [
    "# Given tissue Hounsfield Units\n",
    "tissue_types = {\n",
    "    'Air': [-945, -1032, -990],\n",
    "    'Soft Tissue': [-50, -45, -67],\n",
    "    'Kidney': [30, 43, 37],\n",
    "    'Liver': [50, 54, 58],\n",
    "    'Bone': [210, 190, 230]\n",
    "}\n",
    "\n",
    "# Calculate mean Hounsfield Unit for each tissue type\n",
    "mean_values = {tissue: np.mean(values) for tissue, values in tissue_types.items()}\n",
    "\n",
    "# Given pixel value to classify\n",
    "pixel_value = 46\n",
    "\n",
    "# Calculate the absolute distance from the pixel value to each mean\n",
    "distances = {tissue: abs(mean - pixel_value) for tissue, mean in mean_values.items()}\n",
    "\n",
    "# Find the tissue type with the minimum distance\n",
    "classified_tissue = min(distances, key=distances.get)\n",
    "\n",
    "mean_values, distances, classified_tissue"
   ]
  },
  {
   "cell_type": "markdown",
   "metadata": {},
   "source": [
    "What is the class range for kidney?"
   ]
  },
  {
   "cell_type": "code",
   "execution_count": 13,
   "metadata": {},
   "outputs": [
    {
     "data": {
      "text/plain": [
       "(-8.666666666666668, 45.33333333333333)"
      ]
     },
     "execution_count": 13,
     "metadata": {},
     "output_type": "execute_result"
    }
   ],
   "source": [
    "# Mean values for relevant tissues\n",
    "mean_soft_tissue = mean_values['Soft Tissue']\n",
    "mean_kidney = mean_values['Kidney']\n",
    "mean_liver = mean_values['Liver']\n",
    "\n",
    "# Calculate midpoints\n",
    "midpoint_soft_tissue_kidney = (mean_soft_tissue + mean_kidney) / 2\n",
    "midpoint_kidney_liver = (mean_kidney + mean_liver) / 2\n",
    "\n",
    "(midpoint_soft_tissue_kidney, midpoint_kidney_liver)"
   ]
  },
  {
   "cell_type": "markdown",
   "metadata": {},
   "source": [
    "### 16.18\n",
    "#### pixel classification and parametric classification\n",
    "\n",
    "A parametric classification is conducted. A pixel with the value 120 in the image will be classified as?"
   ]
  },
  {
   "cell_type": "code",
   "execution_count": 14,
   "metadata": {},
   "outputs": [
    {
     "data": {
      "text/plain": [
       "({'Air': 1109.0,\n",
       "  'Soft Tissue': 174.0,\n",
       "  'Kidney': 83.33333333333334,\n",
       "  'Liver': 66.0,\n",
       "  'Bone': 90.0},\n",
       " 'Liver')"
      ]
     },
     "execution_count": 14,
     "metadata": {},
     "output_type": "execute_result"
    }
   ],
   "source": [
    "# Given new pixel value for classification\n",
    "new_pixel_value = 120\n",
    "\n",
    "# Calculate the absolute distances from the new pixel value to each mean\n",
    "parametric_distances = {tissue: abs(mean - new_pixel_value) for tissue, mean in mean_values.items()}\n",
    "\n",
    "# Find the tissue type with the minimum distance\n",
    "parametric_classified_tissue = min(parametric_distances, key=parametric_distances.get)\n",
    "\n",
    "parametric_distances, parametric_classified_tissue"
   ]
  },
  {
   "cell_type": "markdown",
   "metadata": {},
   "source": [
    "### 16.21\n",
    "#### Transformation and midpoint"
   ]
  },
  {
   "cell_type": "code",
   "execution_count": 15,
   "metadata": {},
   "outputs": [
    {
     "data": {
      "text/plain": [
       "(array([35, 45]), array([50, 70]), array([42.5, 57.5]))"
      ]
     },
     "execution_count": 15,
     "metadata": {},
     "output_type": "execute_result"
    }
   ],
   "source": [
    "# Transformation matrices\n",
    "A = np.array([[3, 2], [4, 1]])\n",
    "B = np.array([[2, 1], [1, 3]])\n",
    "\n",
    "# Original points\n",
    "P1 = np.array([2, 3])\n",
    "P2 = np.array([4, 2])\n",
    "\n",
    "# Apply the first transformation\n",
    "P1_prime = A @ P1\n",
    "P2_prime = A @ P2\n",
    "\n",
    "# Apply the second transformation\n",
    "P1_double_prime = B @ P1_prime\n",
    "P2_double_prime = B @ P2_prime\n",
    "\n",
    "# Calculate the midpoint of the transformed points\n",
    "midpoint = (P1_double_prime + P2_double_prime) / 2\n",
    "\n",
    "P1_double_prime, P2_double_prime, midpoint"
   ]
  },
  {
   "cell_type": "markdown",
   "metadata": {},
   "source": [
    "### 16.21\n",
    "#### Vertical Prewitt flter \n",
    "What is the value of the marked pixel after fltration?"
   ]
  },
  {
   "cell_type": "code",
   "execution_count": 18,
   "metadata": {},
   "outputs": [
    {
     "data": {
      "text/plain": [
       "-2"
      ]
     },
     "execution_count": 18,
     "metadata": {},
     "output_type": "execute_result"
    }
   ],
   "source": [
    "matrix = np.array([[0,0,0],\n",
    "                   [244,202,173],\n",
    "                   [124,245,193]])\n",
    "\n",
    "# Vertical Prewitt filter kernel\n",
    "kernel = np.array([[-1, 0, 1],\n",
    "                   [-1, 0, 1],\n",
    "                   [-1, 0, 1]])\n",
    "\n",
    "# Function to apply the vertical Prewitt filter to a specific pixel\n",
    "def apply_prewitt_vertical(matrix, row, col):\n",
    "    # Extract the 3x3 region centered at the specified pixel\n",
    "    region = matrix[row-1:row+2, col-1:col+2]\n",
    "    # Perform the convolution\n",
    "    filtered_value = np.sum(region * kernel)\n",
    "    return filtered_value\n",
    "\n",
    "# Apply the filter to the marked pixel at position (1, 1)\n",
    "filtered_pixel_value = apply_prewitt_vertical(matrix, 1, 1)\n",
    "filtered_pixel_value"
   ]
  },
  {
   "cell_type": "markdown",
   "metadata": {},
   "source": [
    "### 16.23\n",
    "#### binary chain coding\n",
    "\n",
    "On this image a BLOB analysis is conducted with 4-connectivity. How many BLOBS are found in the image?"
   ]
  },
  {
   "cell_type": "code",
   "execution_count": 22,
   "metadata": {},
   "outputs": [
    {
     "name": "stdout",
     "output_type": "stream",
     "text": [
      "0.23609999999999998 0.253 0.20089999999999997 0.2622\n"
     ]
    }
   ],
   "source": [
    "wa =[0.0538,0.0558,0.1861,-0.0596]\n",
    "wa=sum(wa)\n",
    "wb = [0.0089,0.0931,0.1093,0.0417]\n",
    "wb=sum(wb)\n",
    "wc = [0.2811,0.0445,0.3379,-0.4626]\n",
    "wc=sum(wc)\n",
    "wd=[0.0167,0.0698,0.1354,0.0403]\n",
    "wd=sum(wd)\n",
    "\n",
    "print(wa,wb,wc,wd)\n",
    "\n",
    "\n"
   ]
  },
  {
   "cell_type": "code",
   "execution_count": 26,
   "metadata": {},
   "outputs": [
    {
     "data": {
      "text/plain": [
       "0.09278350515463918"
      ]
     },
     "execution_count": 26,
     "metadata": {},
     "output_type": "execute_result"
    }
   ],
   "source": [
    "(np.power(3/14, 3))/(np.power(3/14, 3)+ (3/14*(8/14)*11/14))\n"
   ]
  },
  {
   "cell_type": "code",
   "execution_count": null,
   "metadata": {},
   "outputs": [],
   "source": []
  }
 ],
 "metadata": {
  "kernelspec": {
   "display_name": "Image_Analysis",
   "language": "python",
   "name": "python3"
  },
  "language_info": {
   "codemirror_mode": {
    "name": "ipython",
    "version": 3
   },
   "file_extension": ".py",
   "mimetype": "text/x-python",
   "name": "python",
   "nbconvert_exporter": "python",
   "pygments_lexer": "ipython3",
   "version": "3.11.7"
  }
 },
 "nbformat": 4,
 "nbformat_minor": 2
}
