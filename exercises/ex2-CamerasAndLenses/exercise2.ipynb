{
 "cells": [
  {
   "cell_type": "markdown",
   "metadata": {},
   "source": [
    "# Exercise2 - Cameras and Lenses\n",
    "\n",
    "\n",
    "## Introduction\n",
    "\n",
    "The purpose of this exercise is to use Python to calculate camera and scene specific values.\n",
    "\n",
    "## Learning Objectives\n",
    "\n",
    "After completing this exercise, the student should be able to do the following:\n",
    "\n",
    "- Create a Python function that uses the thin lens equation to compute either the focal length (f), where the rays are focused (b) or an object distance (g) when two of the other measurements are given\n",
    "\n"
   ]
  },
  {
   "cell_type": "markdown",
   "metadata": {},
   "source": [
    "### Exercise 1\n",
    "\n",
    "Explain how to calculate the angle $\\theta$ when $a$ and $b$ is given\n",
    "in the figure below. Calculate $\\theta$ (in degrees) when\n",
    "$a = 10$ and $b=3$ using the function `math.atan2()`. Remember to import `math` and find out what `atan2` does.\n",
    "\n",
    "![Angle in triangel](figures/ArcTangens.png)"
   ]
  },
  {
   "cell_type": "code",
   "execution_count": 1,
   "metadata": {},
   "outputs": [
    {
     "name": "stdout",
     "output_type": "stream",
     "text": [
      "0.2914567944778671\n"
     ]
    }
   ],
   "source": [
    "import numpy as np\n",
    "a= 10\n",
    "b= 3\n",
    "alfa = np.math.atan2(b, a)\n",
    "print(alfa)"
   ]
  },
  {
   "cell_type": "markdown",
   "metadata": {},
   "source": [
    "### Exercise 2\n",
    "\n",
    "Create a Python function called `camera_b_distance`.\n",
    "\n",
    "The function should accept two arguments, a focal length f and an\n",
    "object distance g. It should return the distance from the lens to\n",
    "where the rays are focused (b) (where the CCD should be placed)\n",
    "\n",
    "The function should start like this:\n"
   ]
  },
  {
   "cell_type": "markdown",
   "metadata": {},
   "source": [
    "It should be based on Gauss' lens equation:\n",
    "$$\\frac{1}{g} + \\frac{1}{b} = \\frac{1}{f}$$"
   ]
  },
  {
   "cell_type": "code",
   "execution_count": 10,
   "metadata": {},
   "outputs": [],
   "source": [
    "def camera_b_distance(f, g):\n",
    "    \"\"\"\n",
    "    camera_b_distance returns the distance (b) where the CCD should be placed\n",
    "    when the object distance (g) and the focal length (f) are given\n",
    "    :param f: Focal length\n",
    "    :param g: Object distance\n",
    "    :return: b, the distance where the CCD should be placed\n",
    "    \"\"\"\n",
    "    b = 1 / (f**(-1) - g**-(1))\n",
    "    return b"
   ]
  },
  {
   "cell_type": "markdown",
   "metadata": {},
   "source": [
    "Use your function to find out where the CCD should be placed when the\n",
    "focal length is 15 mm and the object distance is 0.1, 1, 5, and 15\n",
    "meters.\n",
    "\n",
    "What happens to the place of the CCD when the object distance is increased?"
   ]
  },
  {
   "cell_type": "code",
   "execution_count": 11,
   "metadata": {},
   "outputs": [
    {
     "name": "stdout",
     "output_type": "stream",
     "text": [
      "Focal distance (m): 0.015 \t Object distance (m): 0.1 \t CCD place (m): 0.01764705882352941\n",
      "Focal distance (m): 0.015 \t Object distance (m): 1 \t CCD place (m): 0.015228426395939085\n",
      "Focal distance (m): 0.015 \t Object distance (m): 5 \t CCD place (m): 0.015045135406218655\n",
      "Focal distance (m): 0.015 \t Object distance (m): 15 \t CCD place (m): 0.015015015015015013\n"
     ]
    }
   ],
   "source": [
    "focal_distance = 15e-3 # meters\n",
    "object_distances = [0.1, 1, 5, 15] # meters\n",
    "\n",
    "for d in object_distances:\n",
    "    val = camera_b_distance(focal_distance, d)\n",
    "    print(f\"Focal distance (m): {focal_distance} \\t Object distance (m): {d} \\t CCD place (m): {val}\")"
   ]
  },
  {
   "cell_type": "markdown",
   "metadata": {},
   "source": [
    "As the object distance increases, the CCD placement (distance where the rays are focused) also increases. This is in line with the behavior of lens systems where the focal point moves away from the lens as the object moves further away.\n",
    "\n",
    "\n",
    "\n",
    "\n"
   ]
  },
  {
   "cell_type": "markdown",
   "metadata": {},
   "source": [
    "## Camera exercise\n",
    "\n",
    "In the following exercise, you should remember to explain when\n",
    "something is in mm and when it is in meters. To convert between\n",
    "radians and degrees you can use:"
   ]
  },
  {
   "cell_type": "code",
   "execution_count": 4,
   "metadata": {},
   "outputs": [],
   "source": [
    "def in_degrees(angle_radians):\n",
    "    angle_degrees = 180.0 / np.math.pi * angle_radians\n",
    "    return angle_degrees"
   ]
  },
  {
   "cell_type": "markdown",
   "metadata": {},
   "source": [
    "### Exercise 3\n",
    "\n",
    "Thomas is 1.8 meters tall and standing 5 meters from a camera. The\n",
    "cameras focal length is 5 mm. The CCD in the camera can be seen in\n",
    "the figure below. It is a 1/2\" (inches) CCD chip and the\n",
    "image formed by the CCD is 640x480 pixels in a (x,y) coordinate system.\n",
    "\n",
    "![CCD chip](figures/CCDChip.png)\n"
   ]
  },
  {
   "cell_type": "markdown",
   "metadata": {},
   "source": [
    "It is easiest to start by drawing the scene. The scene should\n",
    "contain the optical axis, the optical center, the lens, the focal\n",
    "point, the CCD chip, and Thomas. Do it on paper or even better in a\n",
    "drawing program."
   ]
  },
  {
   "cell_type": "markdown",
   "metadata": {},
   "source": [
    "1. A focused image of Thomas is formed inside the camera. At which distance from the lens?\n",
    "2. How tall (in mm) will Thomas be on the CCD-chip?\n",
    "3. What is the size of a single pixel on the CCD chip? (in mm)?\n",
    "4. How tall (in pixels) will Thomas be on the CCD-chip?\n",
    "5. What is the horizontal field-of-view (in degrees)?\n",
    "6. What is the vertical field-of-view (in degrees)?"
   ]
  },
  {
   "cell_type": "markdown",
   "metadata": {},
   "source": [
    "1:\n",
    "g is the object distance (distance of Thomas from the lens, given as 5 meters)\n",
    "b is the image distance (the distance where the focused image of Thomas is formed)"
   ]
  },
  {
   "cell_type": "code",
   "execution_count": 12,
   "metadata": {},
   "outputs": [
    {
     "name": "stdout",
     "output_type": "stream",
     "text": [
      "The image is formed at 0.005005005005005005 m from the lens\n"
     ]
    }
   ],
   "source": [
    "f = 5e-3 # m\n",
    "g = 5 # m\n",
    "b = camera_b_distance(f, g)\n",
    "\n",
    "print(f\"The image is formed at {b} m from the lens\")"
   ]
  },
  {
   "cell_type": "markdown",
   "metadata": {},
   "source": [
    "2. How tall (in mm) will Thomas be on the CCD-chip?"
   ]
  },
  {
   "cell_type": "code",
   "execution_count": 13,
   "metadata": {},
   "outputs": [
    {
     "name": "stdout",
     "output_type": "stream",
     "text": [
      "Thomas is 1.8018018018018018 mm tall on the CCD chip\n"
     ]
    }
   ],
   "source": [
    "G = 1.8 # m\n",
    "\n",
    "B = b*G/g\n",
    "print(f\"Thomas is {B*1e3} mm tall on the CCD chip\")"
   ]
  },
  {
   "cell_type": "markdown",
   "metadata": {},
   "source": [
    "3. What is the size of a single pixel on the CCD chip? (in mm)?"
   ]
  },
  {
   "cell_type": "code",
   "execution_count": 14,
   "metadata": {},
   "outputs": [
    {
     "name": "stdout",
     "output_type": "stream",
     "text": [
      "The real world distance corresponding to a single pixel is 9.989999999999998 mm\n"
     ]
    }
   ],
   "source": [
    "# If you understand this as the real world size of an object in a pixel...\n",
    "B = 4.8e-3\n",
    "G_aux = g*B/b # Real world distance corresponding to 480 pixels\n",
    "\n",
    "px_size = G_aux/480\n",
    "print(f\"The real world distance corresponding to a single pixel is {px_size*1e3} mm\")"
   ]
  },
  {
   "cell_type": "code",
   "execution_count": 17,
   "metadata": {},
   "outputs": [
    {
     "name": "stdout",
     "output_type": "stream",
     "text": [
      "The pixel size is:  0.01 x 0.01\n"
     ]
    }
   ],
   "source": [
    "# If you understand this as the \"physical\" size of a pixel on the CCD chip...\n",
    "\n",
    "size_y = 4.8 / 480 # mm\n",
    "size_x = 6.4 / 640 # mm\n",
    "\n",
    "print(\"The pixel size is: \", size_x, \"x\", size_y)"
   ]
  },
  {
   "cell_type": "markdown",
   "metadata": {},
   "source": [
    "**Note**: Some people may understand this question as what is the size of a \"physical\" pixel on the CCD chip. The answer to that is 6.4/640 mm x 4.8/480 mm = 0.01 x 0.01 mm."
   ]
  },
  {
   "cell_type": "markdown",
   "metadata": {},
   "source": [
    "4. How tall (in pixels) will Thomas be on the CCD-chip?"
   ]
  },
  {
   "cell_type": "code",
   "execution_count": 18,
   "metadata": {},
   "outputs": [
    {
     "name": "stdout",
     "output_type": "stream",
     "text": [
      "Thomas will be 180.1801801801802 pixels tall\n"
     ]
    }
   ],
   "source": [
    "h = 1.8/px_size\n",
    "print(f\"Thomas will be {h} pixels tall\")"
   ]
  },
  {
   "cell_type": "code",
   "execution_count": 16,
   "metadata": {},
   "outputs": [
    {
     "name": "stdout",
     "output_type": "stream",
     "text": [
      "Thomas will be 180.1801801801802 pixels tall\n"
     ]
    }
   ],
   "source": [
    "# You can also do it like this (i.e., like a proportion)\n",
    "B = 1.8018018018018018e-3 # Exercise 3.2\n",
    "h = 480*B/4.8e-3\n",
    "print(f\"Thomas will be {h} pixels tall\")"
   ]
  },
  {
   "cell_type": "markdown",
   "metadata": {},
   "source": [
    "5. What is the horizontal field-of-view (in degrees)?\n",
    "6. What is the vertical field-of-view (in degrees)?"
   ]
  },
  {
   "cell_type": "code",
   "execution_count": 19,
   "metadata": {},
   "outputs": [
    {
     "name": "stdout",
     "output_type": "stream",
     "text": [
      "Horizontal FOV is 65.1864430737312 deg\n"
     ]
    }
   ],
   "source": [
    "FOV_x = 2*math.atan2(3.2e-3, b)*180/math.pi\n",
    "print(f\"Horizontal FOV is {FOV_x} deg\")"
   ]
  },
  {
   "cell_type": "code",
   "execution_count": 20,
   "metadata": {},
   "outputs": [
    {
     "name": "stdout",
     "output_type": "stream",
     "text": [
      "Vertical FOV is 51.23729915893342 deg\n"
     ]
    }
   ],
   "source": [
    "FOV_y = 2*math.atan2(2.4e-3, b)*180/math.pi\n",
    "print(f\"Vertical FOV is {FOV_y} deg\")"
   ]
  }
 ],
 "metadata": {
  "kernelspec": {
   "display_name": "Image_Analysis",
   "language": "python",
   "name": "python3"
  },
  "language_info": {
   "codemirror_mode": {
    "name": "ipython",
    "version": 3
   },
   "file_extension": ".py",
   "mimetype": "text/x-python",
   "name": "python",
   "nbconvert_exporter": "python",
   "pygments_lexer": "ipython3",
   "version": "3.11.7"
  }
 },
 "nbformat": 4,
 "nbformat_minor": 2
}
